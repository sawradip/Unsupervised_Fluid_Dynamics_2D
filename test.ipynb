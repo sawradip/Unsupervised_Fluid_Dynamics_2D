{
 "cells": [
  {
   "cell_type": "code",
   "execution_count": 1,
   "metadata": {},
   "outputs": [],
   "source": [
    "import torch\n",
    "import numpy as np\n",
    "from PIL import Image"
   ]
  },
  {
   "cell_type": "code",
   "execution_count": 13,
   "metadata": {},
   "outputs": [],
   "source": [
    "background1 = (torch.mean(torch.tensor(np.asarray(Image.open('imgs/background2.png').resize((300, 100)))).float(),dim=2)<100).float()"
   ]
  },
  {
   "cell_type": "code",
   "execution_count": 14,
   "metadata": {},
   "outputs": [
    {
     "data": {
      "text/plain": [
       "torch.Size([100, 300])"
      ]
     },
     "execution_count": 14,
     "metadata": {},
     "output_type": "execute_result"
    }
   ],
   "source": [
    "background1.shape"
   ]
  },
  {
   "cell_type": "code",
   "execution_count": 16,
   "metadata": {},
   "outputs": [],
   "source": [
    "import math\n",
    "\n",
    "def vector2HSV(vector,plot_sqrt=False):\n",
    "\t\"\"\"\n",
    "\ttransform vector field into hsv color wheel\n",
    "\t:vector: vector field (size: 2 x height x width)\n",
    "\t:return: hsv (hue: direction of vector; saturation: 1; value: abs value of vector)\n",
    "\t\"\"\"\n",
    "\tvalues = torch.sqrt(torch.sum(torch.pow(vector,2),dim=0)).unsqueeze(0)\n",
    "\tsaturation = torch.ones(values.shape).cuda()\n",
    "\tnorm = vector/(values+0.000001)\n",
    "\tangles = torch.asin(norm[0])+math.pi/2\n",
    "\tangles[norm[1]<0] = 2*math.pi-angles[norm[1]<0]\n",
    "\thue = angles.unsqueeze(0)/(2*math.pi)\n",
    "\thue = (hue*360+100)%360\n",
    "\t#values = norm*torch.log(values+1)\n",
    "\tvalues = values/torch.max(values)\n",
    "\tif plot_sqrt:\n",
    "\t\tvalues = torch.sqrt(values)\n",
    "\thsv = torch.cat([hue,saturation,values])\n",
    "\treturn hsv.permute(1,2,0).cpu().numpy()"
   ]
  },
  {
   "cell_type": "code",
   "execution_count": 17,
   "metadata": {},
   "outputs": [
    {
     "data": {
      "text/plain": [
       "torch.Size([2, 200, 200])"
      ]
     },
     "execution_count": 17,
     "metadata": {},
     "output_type": "execute_result"
    }
   ],
   "source": [
    "import torch\n",
    "\n",
    "dim1 = torch.arange(-1, 1, 0.01).unsqueeze(0).unsqueeze(-1).repeat(1, 1, 200)\n",
    "dim2 = torch.arange(-1, 1, 0.01).unsqueeze(0).unsqueeze(1).repeat(1, 200, 1)\n",
    "vector= torch.cat([dim1, dim2])\n",
    "\n",
    "vector.shape"
   ]
  },
  {
   "cell_type": "code",
   "execution_count": 13,
   "metadata": {},
   "outputs": [
    {
     "data": {
      "text/plain": [
       "torch.Size([1, 200, 200])"
      ]
     },
     "execution_count": 13,
     "metadata": {},
     "output_type": "execute_result"
    }
   ],
   "source": [
    "\n",
    "\n",
    "dim2.shape"
   ]
  },
  {
   "cell_type": "code",
   "execution_count": 21,
   "metadata": {},
   "outputs": [
    {
     "data": {
      "text/plain": [
       "(100, 300, 3)"
      ]
     },
     "execution_count": 21,
     "metadata": {},
     "output_type": "execute_result"
    }
   ],
   "source": [
    "import cv2\n",
    "i = cv2.imread(r'C:\\Users\\Sawradip\\Desktop\\practice_code\\practice_python\\Unsupervised_Fluid_Dynamics_2D\\imgs\\background2.png')\n",
    "\n",
    "i.shape"
   ]
  },
  {
   "cell_type": "code",
   "execution_count": null,
   "metadata": {},
   "outputs": [],
   "source": []
  }
 ],
 "metadata": {
  "kernelspec": {
   "display_name": "base",
   "language": "python",
   "name": "python3"
  },
  "language_info": {
   "codemirror_mode": {
    "name": "ipython",
    "version": 3
   },
   "file_extension": ".py",
   "mimetype": "text/x-python",
   "name": "python",
   "nbconvert_exporter": "python",
   "pygments_lexer": "ipython3",
   "version": "3.7.13 (default, Mar 28 2022, 08:03:21) [MSC v.1916 64 bit (AMD64)]"
  },
  "orig_nbformat": 4,
  "vscode": {
   "interpreter": {
    "hash": "7b43729a11307dc0ecc0f60758ae636ddee3a6d3d31047e184c2bedb5acf0c1f"
   }
  }
 },
 "nbformat": 4,
 "nbformat_minor": 2
}
